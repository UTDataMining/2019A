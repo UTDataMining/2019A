{
 "cells": [
  {
   "cell_type": "markdown",
   "metadata": {},
   "source": [
    "# 課題5 ネットワーク分析\n",
    "\n",
    "配点\n",
    "- Q1.1 2P\n",
    "- Q1.2 2P\n",
    "- Q2.1 1P\n",
    "- Q2.2 2.5P\n",
    "- Q2.3 2.5P"
   ]
  },
  {
   "cell_type": "code",
   "execution_count": null,
   "metadata": {},
   "outputs": [],
   "source": [
    "# モジュールのインポート\n",
    "import networkx as nx\n",
    "import numpy as np\n",
    "import pandas as pd\n",
    "import matplotlib.pyplot as plt\n",
    "%matplotlib inline"
   ]
  },
  {
   "cell_type": "markdown",
   "metadata": {},
   "source": [
    "## Q1\n",
    "以下では、networkxモジュールに含まれるデータセット、空手クラブのソーシャルネットワーク、からグラフオブジェクトを作成し、ネットワーク全体を可視化しています。ネットワークは無方向で重みなしです。また自己ループやノード間の多重リンクはありません。"
   ]
  },
  {
   "cell_type": "code",
   "execution_count": null,
   "metadata": {},
   "outputs": [],
   "source": [
    "G = nx.karate_club_graph() # グラフの作成\n",
    "pos = nx.spring_layout(G) # 可視化のレイアウト\n",
    "plt.figure(figsize=(10,10)) # 可視化のサイズ\n",
    "nx.draw(G, pos=pos, with_labels=True) # 可視化"
   ]
  },
  {
   "cell_type": "markdown",
   "metadata": {},
   "source": [
    "このネットワークには34のノードと78のリンクが含まれ、各ノードには0から33の数字がふられています。以下ではこの数字をノードのラベルとして用います。"
   ]
  },
  {
   "cell_type": "code",
   "execution_count": null,
   "metadata": {},
   "outputs": [],
   "source": [
    "print(len(G)) # ノード数\n",
    "print(G.size()) # リンク数"
   ]
  },
  {
   "cell_type": "markdown",
   "metadata": {},
   "source": [
    "このネットワークの隣接行列`adj_matrix`は、以下の通りです。"
   ]
  },
  {
   "cell_type": "code",
   "execution_count": null,
   "metadata": {},
   "outputs": [],
   "source": [
    "adj_matrix=nx.adjacency_matrix(G).toarray() # 隣接行列の取得\n",
    "for row in adj_matrix:\n",
    "    print(row)"
   ]
  },
  {
   "cell_type": "markdown",
   "metadata": {},
   "source": [
    "### Q1.1\n",
    "以下の辞書`adj_list`は、上記のネットワークのノードをキー、そのノードに隣接しているノードのリストを値として持つ辞書です。例えば、キーが31の値のリストを見ることで、ノード31には0, 24, 25, 28, 32, 33のノードが隣接していることがわかります。このような各ノードの隣接ノードリストの辞書を隣接リストと呼びます。\n",
    "\n",
    "隣接行列`adj_matrix`を受け取り、隣接リストとなる辞書`adj_list`を作成して返す`get_adj_list()`関数を実装してください。"
   ]
  },
  {
   "cell_type": "markdown",
   "metadata": {},
   "source": [
    "```Python\n",
    "adj_list={0: [1, 2, 3, 4, 5, 6, 7, 8, 10, 11, 12, 13, 17, 19, 21, 31],\n",
    "                1: [0, 2, 3, 7, 13, 17, 19, 21, 30],\n",
    "                2: [0, 1, 3, 7, 8, 9, 13, 27, 28, 32],\n",
    "                  ...\n",
    "                31: [0, 24, 25, 28, 32, 33],\n",
    "                32: [2, 8, 14, 15, 18, 20, 22, 23, 29, 30, 31, 33],\n",
    "                33: [8, 9, 13, 14, 15, 18, 19, 20, 22, 23, 26, 27, 28, 29, 30, 31, 32]}\n",
    "```"
   ]
  },
  {
   "cell_type": "code",
   "execution_count": null,
   "metadata": {},
   "outputs": [],
   "source": [
    "def get_adj_list(adj_matrix):\n",
    "    ### 引数：\n",
    "    # adj_matrix : 隣接行列\n",
    "\n",
    "    adj_list={} # 隣接リストの辞書\n",
    "    \n",
    "    ### 隣接リストの辞書を作成するコード ###\n",
    "    \n",
    "    return adj_list"
   ]
  },
  {
   "cell_type": "markdown",
   "metadata": {},
   "source": [
    "`get_adj_list`関数が完成したら、以下のセルを実行して、`adj_list[0]`や`adj_list[33]`を表示し、上記に示されている各ノードの隣接ノードリストが作成できているか確認してください。"
   ]
  },
  {
   "cell_type": "code",
   "execution_count": null,
   "metadata": {},
   "outputs": [],
   "source": [
    "adj_list=get_adj_list(adj_matrix)\n",
    "\n",
    "print(adj_list[0])\n",
    "print(adj_list[33])"
   ]
  },
  {
   "cell_type": "markdown",
   "metadata": {},
   "source": [
    "### Q1.2\n",
    "講義資料の幅優先探索のアルゴリズムを参考に、第1引数として隣接リスト、第2引数として始点ノードのラベルを受け取り、始点から各ノードへの距離の辞書`d`を返す以下の`bfs`関数を完成させてください。隣接リストは上記で作成した`adj_list`を用います。`d`は、キーがノードのラベル、値が始点からそのノードへの距離となる辞書です。\n",
    "\n",
    "講義資料の`Q.enqueue`, `Q.dequeue`はそれぞれコード中の`Q.append`, `Q.popleft`に対応します。"
   ]
  },
  {
   "cell_type": "code",
   "execution_count": null,
   "metadata": {},
   "outputs": [],
   "source": [
    "from collections import deque # キューのインポート\n",
    "\n",
    "def bfs(g, s):\n",
    "     ### 引数：\n",
    "    # g: 隣接リスト\n",
    "    # s: 始点ノードのラベル\n",
    "    \n",
    "    Q = deque() # キューの初期化\n",
    "    visited={} # 訪問済みノード辞書\n",
    "    d={} # 始点から各ノードへの距離の辞書\n",
    "    for i in g.keys(): # ネットワークの各ノードiについて\n",
    "        d[i]=np.inf # 距離の辞書を全て距離無限大に初期化\n",
    "        visited[i]=False  # 訪問済みノード辞書を全て未訪問（False）に初期化\n",
    "        \n",
    "    visited[s]=True # 始点ノードを訪問済みにする\n",
    "    d[s]=0 # 始点ノード自身への距離は0\n",
    "    Q.append(s) # 始点ノードをキューに入れる\n",
    "\n",
    "    while Q: # キューが空でない限り繰り返し\n",
    "        i = Q.popleft() # キューからノードiを取り出し\n",
    "        \n",
    "        ### 以下の部分のコードを完成させてください ###\n",
    "        \n",
    "        for ### ノードiに隣接する各ノードjを取り出すコード ###\n",
    "            if ### ノードjがまだ未訪問であるという条件コード ###              \n",
    "                ### ノードjを訪問済みに更新するコード ###\n",
    "                ### 始点からノードjへの距離を(始点からノードiの距離+1)に更新するコード ###\n",
    "                ### ノードjをキューに入れるコード ###\n",
    "                \n",
    "        ### 作成するコードここまで ###\n",
    "    return d # 始点から各ノードへの距離の辞書を返す"
   ]
  },
  {
   "cell_type": "markdown",
   "metadata": {},
   "source": [
    "`bfs`関数が完成したら、以下のセルを実行して動作を確認してください。ノード0からノード26への長さは3、ノード11からノード26への長さは4となります。"
   ]
  },
  {
   "cell_type": "code",
   "execution_count": null,
   "metadata": {},
   "outputs": [],
   "source": [
    "d1=bfs(adj_list, 0)\n",
    "print(d1[26])\n",
    "\n",
    "d2=bfs(adj_list, 11)\n",
    "print(d2[26])"
   ]
  },
  {
   "cell_type": "markdown",
   "metadata": {},
   "source": [
    "## Q2\n",
    "以下では、空手クラブのソーシャルネットワークデータについて各ノードの次数中心性を計算し、次数中心性の上位のノードを表示しています。ノード33が最も次数中心性が高いことがわかります。"
   ]
  },
  {
   "cell_type": "code",
   "execution_count": null,
   "metadata": {},
   "outputs": [],
   "source": [
    "G = nx.karate_club_graph()\n",
    "plt.figure(figsize=(10,10)) # 可視化のサイズ\n",
    "nx.draw(G, pos=pos, with_labels=True) # 可視化"
   ]
  },
  {
   "cell_type": "code",
   "execution_count": null,
   "metadata": {},
   "outputs": [],
   "source": [
    "# 次数中心性 (次数/最大次数（N-1))\n",
    "degree=nx.degree_centrality(G)\n",
    "print(pd.Series(degree).sort_values(ascending=False).head(5)) "
   ]
  },
  {
   "cell_type": "markdown",
   "metadata": {},
   "source": [
    "### Q2.1\n",
    "近接中心性、媒介中心性、固有ベクトル中心性の各中心性について、上記の次数中心性と同様に各ノードの中心性を計算し、ネットワーク図の各ノードの位置を参照しながらそれぞれの中心性で上位のノードがどのような位置にあるか観察してください。"
   ]
  },
  {
   "cell_type": "code",
   "execution_count": null,
   "metadata": {},
   "outputs": [],
   "source": [
    "closeness= ###  各ノードの近接中心性を計算 ###\n",
    "### 近接中心性上位のノードを表示 ###\n",
    "\n",
    "betweenness= ### 各ノードの媒介中心性を計算 ###\n",
    "### 媒介中心性上位のノードを表示\n",
    "\n",
    "eigenvector= ### 各ノードの固有ベクトル中心性を計算 ###\n",
    "### 固有ベクトル中心性上位のノードを表示 ###"
   ]
  },
  {
   "cell_type": "markdown",
   "metadata": {},
   "source": [
    "### Q2.2\n",
    "以下では各ノードのPageRankを計算する関数を実装します。`pagerank_centrality`関数は、第1引数としてネットワークの隣接行列、第2引数としてダンピング係数（通常移動とテレポート移動の割合を指定）、第3引数としてベキ乗法の繰り返し回数を受け取り、各ノードのPageRankを要素とするベクトルを返します。ベクトルの各要素のインデックスはノードのラベルに対応します。\n",
    "\n",
    "PageRankを更新するための行列$B$はダンピング係数を$\\alpha$、推移確率行列を$A$として以下のように定義されます。行列$A$はネットワークの隣接行列について、すべての要素が0の列があればその列のすべての要素を1とした上で、隣接行列の各要素についてその列の和で割ったものです。\n",
    "\n",
    "$B=\\alpha A+\\frac{1-\\alpha}{ノード数}$\n",
    "\n",
    "行列$B$を用いてPageRankのベクトル$x=(x_1,x_2,...,x_n)$は以下のように更新されます。\n",
    "\n",
    "$x=Bx$\n",
    "\n",
    "$x=x/\\Sigma_{i=1}^n x_i$"
   ]
  },
  {
   "cell_type": "code",
   "execution_count": null,
   "metadata": {},
   "outputs": [],
   "source": [
    "def pagerank_centrality(adj_matrix, alpha=0.85, t=100):\n",
    "    ### 引数：\n",
    "    # adj_matrix: 隣接行列\n",
    "    # alpha: ダンピング係数（通常移動とテレポート移動の比率を指定）\n",
    "    # t: ベキ乗法の繰り返し回数\n",
    "    \n",
    "    # 推移確率行列Aを作成\n",
    "    adj_matrix[:, adj_matrix.sum(0)==0]=1 # 出次数が0のノードは隣接行列の対応する列を1で埋める\n",
    "    A= adj_matrix/adj_matrix.sum(0) # 隣接行列の要素をその列の和（その列に対応するノードの出次数）で割る\n",
    "\n",
    "    B= ###  行列B（講義資料参照）を作成するコード　###\n",
    "    x= ### 各ノードのPageRankを要素とするベクトルを初期化するコード。各要素の値は(1/ノード数） ###\n",
    "    #　ヒント：np.ones()で要素の値が1の配列がつくれる\n",
    "    \n",
    "    ### t回以下の計算を繰り返すコード ###\n",
    "    ### 1. x=(Bとxの内積)\n",
    "    ### 2.　xのすべての要素の和でxの各要素を割る\n",
    "\n",
    "    return x"
   ]
  },
  {
   "cell_type": "markdown",
   "metadata": {},
   "source": [
    "`pagerank_centrality`関数が完成したら、以下のセルを実行して動作を確認してください。最もPageRankが高いノードは33でそのPageRankは$\\simeq0.10$、次にPageRankが高いノードは0でそのPageRankは$\\simeq0.09$となります。"
   ]
  },
  {
   "cell_type": "code",
   "execution_count": null,
   "metadata": {},
   "outputs": [],
   "source": [
    "adj_matrix=nx.adjacency_matrix(G).toarray()\n",
    "pagerank=pagerank_centrality(adj_matrix, 0.85, 100)\n",
    "# print(pagerank)\n",
    "print(pd.Series(pagerank).sort_values(ascending=False).head(5))"
   ]
  },
  {
   "cell_type": "markdown",
   "metadata": {},
   "source": [
    "NetworkXの`pagerank`関数を使って各ノードのPageRankを計算すると以下のようになります。"
   ]
  },
  {
   "cell_type": "code",
   "execution_count": null,
   "metadata": {},
   "outputs": [],
   "source": [
    "pr=nx.pagerank(G, alpha=0.85, max_iter=100)\n",
    "print(pd.Series(pr).sort_values(ascending=False).head(5))"
   ]
  },
  {
   "cell_type": "markdown",
   "metadata": {},
   "source": [
    "## Q3\n",
    "以下では、空手クラブのソーシャルネットワークデータを用いてコミュニティ抽出を行います。まず、コミュニティ抽出前のネットワークを可視化します。"
   ]
  },
  {
   "cell_type": "code",
   "execution_count": null,
   "metadata": {},
   "outputs": [],
   "source": [
    "G = nx.karate_club_graph()\n",
    "pos = nx.spring_layout(G)\n",
    "plt.figure(figsize=(10,10))\n",
    "nx.draw_networkx(G, pos=pos)\n",
    "_ = plt.axis('off')"
   ]
  },
  {
   "cell_type": "markdown",
   "metadata": {},
   "source": [
    "エッジ媒介中心性を用いたコミュニティ抽出（Girvan-Newman法）を行う以下の`girvan_newman`関数を完成させてください。`girvan_newman`関数は引数としてnetworkxのグラフオブジェクトを受け取り、各コミュニティのノード集合を要素としたリストを返します。"
   ]
  },
  {
   "cell_type": "code",
   "execution_count": null,
   "metadata": {},
   "outputs": [],
   "source": [
    "def find_best_edge(G): # グラフGにおいてエッジ媒介中心性が一番大きいエッジの両端ノードをタプルとして返す関数\n",
    "    edge_between = nx.edge_betweenness_centrality(G)     \n",
    "    return max(edge_between, key=edge_between.get)\n",
    "\n",
    "def girvan_newman(G):\n",
    "    G = G.copy() # グラフGのエッジを除いていくのでグラフオブジェクトをコピーしておく\n",
    "    removed_edges=[] # 取り除いたエッジのリスト\n",
    "    while nx.number_connected_components(G) ==1: # グラフが分割されるまで繰り返す\n",
    "        \n",
    "        ### エッジ媒介中心性が一番大きいエッジをGから取り除く以下の処理を完成させてください ###\n",
    "        \n",
    "        ### 1. エッジ媒介中心性が一番大きいエッジの両端ノードを探す\n",
    "        ### 2. そのエッジをGから取り除く（ヒント グラフオブジェクトのremove_edgeメソッド）\n",
    "        ### 3. 削除したエッジの両端ノードをタプルとしてremoved_edgesに追加\n",
    "        \n",
    "        ### 作成するコードここまで ###\n",
    "\n",
    "    return list(nx.connected_components(G)), removed_edges"
   ]
  },
  {
   "cell_type": "markdown",
   "metadata": {},
   "source": [
    "`girvan_newman`関数が完成したら、以下のセルを実行して動作を確認してください。取り除かれるエッジのリスト`removed_edges`は以下になります。\n",
    "\n",
    "```Python\n",
    " [(0, 31), (0, 2), (0, 8), (13, 33), (19, 33), (2, 32), (1, 30), (1, 2), (2, 3), (2, 7), (2, 13)]\n",
    " ```"
   ]
  },
  {
   "cell_type": "code",
   "execution_count": null,
   "metadata": {},
   "outputs": [],
   "source": [
    "communities, removed_edges = girvan_newman(G)\n",
    "print(removed_edges)"
   ]
  },
  {
   "cell_type": "markdown",
   "metadata": {},
   "source": [
    "以下のセルを実行してネットワークを可視化し、先の処理で抽出されたコミュニティを確認してください。取り除かれたエッジは破線で示されています。"
   ]
  },
  {
   "cell_type": "code",
   "execution_count": null,
   "metadata": {},
   "outputs": [],
   "source": [
    "keeped_edges = set(G.edges()) - set(removed_edges)\n",
    "colors = ['red', 'yellow']\n",
    "\n",
    "plt.figure(figsize=(10,10))\n",
    "nx.draw_networkx_edges(G, pos, edgelist=keeped_edges)\n",
    "nx.draw_networkx_edges(G, pos, edgelist=removed_edges, style='dashed')\n",
    "for community, color in zip(communities, colors):\n",
    "    nx.draw_networkx_nodes(G, pos=pos, nodelist=community, node_color=color)\n",
    "nx.draw_networkx_labels(G, pos=pos)\n",
    "_ = plt.axis('off')"
   ]
  },
  {
   "cell_type": "markdown",
   "metadata": {},
   "source": [
    "### 参考"
   ]
  },
  {
   "cell_type": "code",
   "execution_count": null,
   "metadata": {},
   "outputs": [],
   "source": [
    "# networkx(バージョン2.X以上)のGirvan–Newman法の関数によるコミュニティ抽出\n",
    "community_generator = nx.community.girvan_newman(G)\n",
    "\n",
    "# community_generatorはジェネレーターとなっており、for文を繰り返すごとにコミュニティ分割を行う\n",
    "# 最終的には各ノードが1つのコミュニティの状態となる\n",
    "for communities in community_generator: \n",
    "    print(communities)"
   ]
  }
 ],
 "metadata": {
  "kernelspec": {
   "display_name": "Python 3",
   "language": "python",
   "name": "python3"
  },
  "language_info": {
   "codemirror_mode": {
    "name": "ipython",
    "version": 3
   },
   "file_extension": ".py",
   "mimetype": "text/x-python",
   "name": "python",
   "nbconvert_exporter": "python",
   "pygments_lexer": "ipython3",
   "version": "3.7.3"
  }
 },
 "nbformat": 4,
 "nbformat_minor": 2
}
