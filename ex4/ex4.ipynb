{
 "cells": [
  {
   "cell_type": "markdown",
   "metadata": {},
   "source": [
    "# 課題5 テキストデータ分析\n",
    "配点\n",
    "- Q1, 1P\n",
    "- Q2.1, 0.5P\n",
    "- Q2.2, 0.5P\n",
    "- Q2.3, 1P\n",
    "- Q3.1, 1P\n",
    "- Q3.2, 2P\n",
    "- Q3.3, 2P\n",
    "- Q4, 2P"
   ]
  },
  {
   "cell_type": "markdown",
   "metadata": {},
   "source": [
    "## Q1\n",
    "\n",
    "$n$-次元ベクトル空間における、任意の2つのベクトル、$ \\vec{x}=(x_1,x_2,...,x_n)$、$\\vec{y}=(y_1,y_2,...,y_n)$、の間のcos類似度 $cos( \\vec{x}, \\vec{y})$ は以下のように定義されます。\n",
    "\n",
    "$cos( \\vec{x}, \\vec{y}) =  \\frac{\\vec{x}\\cdot \\vec{y}}{\\|x\\|_2\\|y\\|_2}=\\frac{\\Sigma^{n}_{i=1}{x_{i}y_{i}}}{\\sqrt{\\Sigma^{n}_{i=1}x_{i}^{2}}\\sqrt{\\Sigma^{n}_{i=1}y_{i}^{2}}}$\n",
    "\n",
    "入力ベクトル $\\vec{x}$, $\\vec{y}$ をそれぞれ`NumPy` の配列として引数で受け取り、それらのベクトル間のcos類似度を計算して返す関数 `cos_sim` を完成させてください。"
   ]
  },
  {
   "cell_type": "code",
   "execution_count": null,
   "metadata": {},
   "outputs": [],
   "source": [
    "import numpy as np"
   ]
  },
  {
   "cell_type": "code",
   "execution_count": null,
   "metadata": {},
   "outputs": [],
   "source": [
    "def cos_sim(vec1, vec2):\n",
    "    return # (vec1とvec2の内積)/np.sqrt(vec1の要素の二乗和*vec2の要素の二乗和)"
   ]
  },
  {
   "cell_type": "markdown",
   "metadata": {},
   "source": [
    "`cos_sim()`関数が完成したら、以下のセルを実行して動作を確認してください。`-1.0, 1.0, 0.0`がそれぞれのcos類似度です。"
   ]
  },
  {
   "cell_type": "code",
   "execution_count": null,
   "metadata": {},
   "outputs": [],
   "source": [
    "print(cos_sim(np.array([1,0]), np.array([-1,0])))\n",
    "print(cos_sim(np.array([1,0]), np.array([1,0])))\n",
    "print(cos_sim(np.array([1,0]), np.array([0,-1])))"
   ]
  },
  {
   "cell_type": "markdown",
   "metadata": {},
   "source": [
    "## Q2\n",
    "\"course_list.csv\"ファイルには以下のように各行に授業名のテキストデータ（文字コードはUTF8）が含まれています。以下では、このファイルを読み込み、各授業のベクトルを作成し、授業間の類似度を求めるコードを実装します。\n",
    "```Python\n",
    "## course_list.csvファイル\n",
    "...\n",
    "計量経済学Ⅰ\n",
    "数理統計\n",
    "計量経済学\n",
    "経済史Ⅱ\n",
    "ICTマネジメントⅠ\n",
    "現代日本経済史\n",
    "経済学史\n",
    "...\n",
    "```\n",
    "まず必要なモジュールをimportします。"
   ]
  },
  {
   "cell_type": "code",
   "execution_count": null,
   "metadata": {},
   "outputs": [],
   "source": [
    "import json\n",
    "import csv\n",
    "import numpy as np\n",
    "import pandas as pd"
   ]
  },
  {
   "cell_type": "markdown",
   "metadata": {},
   "source": [
    "### Q2.1\n",
    "\"course_list.csv\"ファイルを1行ずつ**順番に**読み込み、その各行を要素とするリストを作成して返す`course_list`関数を完成さてください。作成されたリストは変数`courses`で受け取ります。以降の処理では、リスト`courses`のインデックスをその要素（授業名）のIDとして扱います。\n"
   ]
  },
  {
   "cell_type": "code",
   "execution_count": null,
   "metadata": {},
   "outputs": [],
   "source": [
    "def course_list():\n",
    "    lst=[]\n",
    "    with open('course_list.csv', 'r',  encoding=\"utf-8\") as f:\n",
    "        dataReader = csv.reader(f)\n",
    "        for row in dataReader:\n",
    "            # lstにrow[0]を追加\n",
    "    return lst\n",
    "courses = course_list()"
   ]
  },
  {
   "cell_type": "markdown",
   "metadata": {},
   "source": [
    "`course_list`関数が完成したら、以下のセルを実行して動作を確認してください。リストの長さ（授業の数）は`4678`、\"Pythonプログラミング\n",
    "入門\"授業のID（リスト`courses`のインデックス）は`6`となります。"
   ]
  },
  {
   "cell_type": "code",
   "execution_count": null,
   "metadata": {},
   "outputs": [],
   "source": [
    "print(len(courses))\n",
    "print(course_list().index('計算機プログラミング'))"
   ]
  },
  {
   "cell_type": "markdown",
   "metadata": {},
   "source": [
    "### Q2.2\n",
    "\"keyword_list.csv\"ファイルには以下のように各行に1単語が含まれています（文字コードはUTF8）。\n",
    "```Python\n",
    "## keyword_list.csvファイル\n",
    "...\n",
    "資源\n",
    "広域\n",
    "フランス語\n",
    "語学\n",
    "教育法\n",
    "環境学\n",
    "相関\n",
    "解析学\n",
    "森林\n",
    "...\n",
    "```\n",
    "\"keywor_list.csv\"ファイルを1行ずつ**順番に**読み込み、その各行を要素とするリストを作成して返す`vocab_list`関数を完成さてください。作成されたリストは変数`vocab`で受け取ります。以降の処理では、リスト`vocab`のインデックスをその要素（単語）のIDとして扱います。リスト`vocab`は以降の処理における語彙となります。"
   ]
  },
  {
   "cell_type": "code",
   "execution_count": null,
   "metadata": {},
   "outputs": [],
   "source": [
    "def vocab_list():\n",
    "    lst = []\n",
    "    with open('keyword_list.csv', 'r',  encoding=\"utf-8\") as f:\n",
    "        dataReader = csv.reader(f)\n",
    "        for row in dataReader:\n",
    "            # lstにrow[0]を追加\n",
    "    return lst\n",
    "vocab = vocab_list()"
   ]
  },
  {
   "cell_type": "markdown",
   "metadata": {},
   "source": [
    "`vocab_list`関数が完成したら、以下のセルを実行して動作を確認してください。リストの長さ（単語の数）は`910`、単語\"プログラミング\"のID（リスト`vocab`のインデックス）は`113`となります。"
   ]
  },
  {
   "cell_type": "code",
   "execution_count": null,
   "metadata": {},
   "outputs": [],
   "source": [
    "print(len(vocab))\n",
    "print(vocab.index('プログラミング'))"
   ]
  },
  {
   "cell_type": "markdown",
   "metadata": {},
   "source": [
    "### Q2.3\n",
    "リスト`courses`と`vocab`を引数で受け取り、単語のID（リスト`vocab`のその単語のインデックス）をキー、その単語のDF（Document Frequency)を値とする辞書を作成して返す`count_df`関数を作成してください。作成された辞書は変数`df`で受け取ります。この場合、ある単語のDFはその単語を授業名に含む授業数に対応します。**単語が授業名に複数回含まれる場合でも1回と数えます**"
   ]
  },
  {
   "cell_type": "code",
   "execution_count": null,
   "metadata": {},
   "outputs": [],
   "source": [
    "def count_df(courses, vocab):\n",
    "    dic={}\n",
    "    for i in range(len(vocab)):\n",
    "        for course in courses:\n",
    "            if # courseがvocab[i]を含むという条件:\n",
    "                # dic[i]を1つ増やす\n",
    "                #　dicにiのキーがまだない場合に注意\n",
    "    return dic\n",
    "df = count_df(courses, vocab)"
   ]
  },
  {
   "cell_type": "markdown",
   "metadata": {},
   "source": [
    "`count_df`関数が完成したら、以下のセルを実行して動作を確認してください。辞書の長さは`910`、単語\"プログラミング\"（IDは`113`）のDFは`23`、単語\"英語\"（IDは`15`）のDFは`145`となります。"
   ]
  },
  {
   "cell_type": "code",
   "execution_count": null,
   "metadata": {},
   "outputs": [],
   "source": [
    "print(len(df))\n",
    "print(vocab.index('プログラミング'), df[vocab.index('プログラミング')])\n",
    "print(vocab.index('英語'), df[vocab.index('英語')])"
   ]
  },
  {
   "cell_type": "markdown",
   "metadata": {},
   "source": [
    "## Q3\n",
    "### Q3.1\n",
    "リスト`vocab`の各単語を次元とする授業ベクトルを考えます。授業ベクトルの長さはリスト`vocab`の長さと等しく、リスト`vocab`のインデックス`i`の単語`vocab[i]`が授業名に含まれる時、授業ベクトルの`i`番目の要素は`1`、含まれなければ`0`とします。\n",
    "\n",
    "以下では、リスト`courses`と`vocab`を引数で受け取り、リスト`courses`の各授業のベクトルを行、リスト`vocab`の各単語を列とした`NumPy`の行列を作成して返す`lec_word_matrix`関数を完成させてください。作成した授業-単語行列は、授業（行）の授業名に単語（列）が含まれていれば、その要素が1であるような行列です。"
   ]
  },
  {
   "cell_type": "code",
   "execution_count": null,
   "metadata": {},
   "outputs": [],
   "source": [
    "# document-term matrix\n",
    "def lec_word_matrix(courses, vocab):\n",
    "    mat = np.zeros((# 授業数, 単語数)) # 授業数x単語数の0要素の行列を初期化\n",
    "    for i in range(len(courses)):\n",
    "        for j in range(len(vocab)):\n",
    "            if # courses[i]がvocab[i]を含むという条件:\n",
    "                # mat[i, j]に1を代入\n",
    "    return mat"
   ]
  },
  {
   "cell_type": "markdown",
   "metadata": {},
   "source": [
    "`lec_word_matrix`関数が完成したら、以下のセルを実行して動作を確認してください。作成した授業-単語行列の要素の値の和は`17406`となります。"
   ]
  },
  {
   "cell_type": "code",
   "execution_count": null,
   "metadata": {},
   "outputs": [],
   "source": [
    "np.sum(lec_word_matrix(courses, vocab))"
   ]
  },
  {
   "cell_type": "markdown",
   "metadata": {},
   "source": [
    "### Q3.2\n",
    "Q3.1で作成した授業-単語行列の各要素を、その授業の授業名に単語が含まれるか否かの1or0ではなく、その授業の授業名に単語が何回含まれるか（TF: Term Frequency)で表した行列を作成して返す`lec_word_tf_matrix`関数を完成させてください。"
   ]
  },
  {
   "cell_type": "code",
   "execution_count": null,
   "metadata": {},
   "outputs": [],
   "source": [
    "# document-term matrix\n",
    "def lec_word_tf_matrix(courses, vocab):\n",
    "    mat = np.zeros((# 授業数, 単語数)) # 授業数x単語数の0要素の行列を初期化\n",
    "    for i in range(len(courses)):\n",
    "        for j in range(len(vocab)):\n",
    "            if # courses[i]がvocab[i]を含むという条件:\n",
    "                # courses[i]に含まれるvocab[j]の数（ヒント count())をmat[i, j]に代入\n",
    "    return mat"
   ]
  },
  {
   "cell_type": "markdown",
   "metadata": {},
   "source": [
    "`lec_word_tf_matrix`関数が完成したら、以下のセルを実行して動作を確認してください。作成した授業-単語行列の要素の値の和は`17732`となります。"
   ]
  },
  {
   "cell_type": "code",
   "execution_count": null,
   "metadata": {},
   "outputs": [],
   "source": [
    "np.sum(lec_word_tf_matrix(courses, vocab))"
   ]
  },
  {
   "cell_type": "markdown",
   "metadata": {},
   "source": [
    "授業「総合社会科学高度教養（計量社会科学研究）」には「科学」が2回含まれるので対応する行列の要素の値は2となります。"
   ]
  },
  {
   "cell_type": "code",
   "execution_count": null,
   "metadata": {},
   "outputs": [],
   "source": [
    "lec_word_tf_matrix(courses, vocab)[courses.index('総合社会科学高度教養（計量社会科学研究）'), vocab.index('科学')]"
   ]
  },
  {
   "cell_type": "markdown",
   "metadata": {},
   "source": [
    "### Q3.3\n",
    "Q3.2で作成した授業-単語行列の各要素（授業`i`の単語`j`の$TF_{ij}$）にその単語のIDF値を掛けたTFIDF値を要素とする行列を作成して返す`lec_word_tfidf_matrix`関数を完成させてください。作成した行列は変数`tfidf_matrix`で受け取ります。\n",
    "\n",
    "ここで、授業`i`、単語`j`のTFIDF値は以下のように定義されます。\n",
    "```Python\n",
    "TFIDF=TF_ij*log(すべての授業数/単語jのDF)=TF_ij*log(len(courses)/df[j])\n",
    "```\n",
    "`log`の計算には`np.log()`を使用してよいです。\n",
    "\n",
    "`lec_word_tfidf_matrix`関数が完成したら、以下のセルを実行して動作を確認してください。作成した授業-単語行列の要素の値の和の整数部分は`76994`となります。"
   ]
  },
  {
   "cell_type": "code",
   "execution_count": null,
   "metadata": {},
   "outputs": [],
   "source": [
    "def lec_word_tfidf_matrix(courses, vocab, df):\n",
    "    ### 引数：\n",
    "    # courses: 授業リスト\n",
    "    # vocab: 単語リスト\n",
    "    # df: DF辞書\n",
    "    \n",
    "    ###  Q3.2のmat[i,j]を\"授業名iの単語jのTFIDF値\"とした行列を作成するコード ###\n",
    "\n",
    "    return ### 上記で作成した行列を返す ###\n",
    "\n",
    "tfidf_matrix = lec_word_tfidf_matrix(courses, vocab, df)"
   ]
  },
  {
   "cell_type": "markdown",
   "metadata": {},
   "source": [
    "`lec_word_tfidf_matrix`関数が完成したら、以下のセルを実行して動作を確認してください。作成した授業-単語行列の要素の値の和の整数部分は`76994`となります。"
   ]
  },
  {
   "cell_type": "code",
   "execution_count": null,
   "metadata": {},
   "outputs": [],
   "source": [
    "np.sum(tfidf_matrix)"
   ]
  },
  {
   "cell_type": "markdown",
   "metadata": {},
   "source": [
    "授業「総合社会科学高度教養（計量社会科学研究）」には「科学」が`2`回含まれ、「科学」のDF値は`412`なので対応する行列の要素の値は$2*log(4678/412)\\simeq4.85$となります。"
   ]
  },
  {
   "cell_type": "code",
   "execution_count": null,
   "metadata": {},
   "outputs": [],
   "source": [
    "print(df[vocab.index('科学')])\n",
    "print(tfidf_matrix[courses.index('総合社会科学高度教養（計量社会科学研究）'), vocab.index('科学')])"
   ]
  },
  {
   "cell_type": "markdown",
   "metadata": {},
   "source": [
    "## Q4\n",
    "Q3.3で作成した授業-単語行列を元に、入力の授業に対してcos類似度に基づいて他のすべての授業との類似度を計算し、類似する授業名をキー、その類似度を値とした辞書を返す以下の`find_similar_course`関数を完成させてください。その際、入力の授業および類似度が0の授業は辞書に含めないようにしてください。cos類似度の計算にはQ1で作成した関数を使ってもよいです。"
   ]
  },
  {
   "cell_type": "code",
   "execution_count": null,
   "metadata": {},
   "outputs": [],
   "source": [
    "def find_similar_course(target, tfidf_matrix, courses):\n",
    "    ### 引数：\n",
    "    # target:  入力授業のID\n",
    "    # tfidf_matrix: Q3.3で作成した授業-単語行列\n",
    "    # courses: 授業リスト\n",
    "\n",
    "    ### 入力授業のベクトルtfidf_matrix[target]と各授業iのベクトルtfidf_matrix[i]の類似度を計算するコード ###\n",
    "\n",
    "    return ### 類似する授業名をキー、その類似度を値とする辞書を返す ###"
   ]
  },
  {
   "cell_type": "markdown",
   "metadata": {},
   "source": [
    "`find_similar_course`関数が完成したら、以下のセルを実行して動作を確認してください。入力の授業`再生可能エネルギーと公共政策`に類似した上位の授業は、`公共政策、金融市場と公共政策、文化人類学特殊演習（公共政策論）、エネルギー政策、河川流域の環境とその再生、...`となります。"
   ]
  },
  {
   "cell_type": "code",
   "execution_count": null,
   "metadata": {},
   "outputs": [],
   "source": [
    "title=\"再生可能エネルギーと公共政策\" # 入力の授業名\n",
    "results=find_similar_course(courses.index(title), tfidf_matrix, courses) # 類似授業の辞書を受け取る\n",
    "df=pd.DataFrame(list(results.items()), columns=['title', \"similarity\"]) # 類似度が上位の授業を表示\n",
    "df.sort_values(by='similarity', ascending=False).head(10)"
   ]
  }
 ],
 "metadata": {
  "kernelspec": {
   "display_name": "Python 3",
   "language": "python",
   "name": "python3"
  },
  "language_info": {
   "codemirror_mode": {
    "name": "ipython",
    "version": 3
   },
   "file_extension": ".py",
   "mimetype": "text/x-python",
   "name": "python",
   "nbconvert_exporter": "python",
   "pygments_lexer": "ipython3",
   "version": "3.7.3"
  }
 },
 "nbformat": 4,
 "nbformat_minor": 2
}
