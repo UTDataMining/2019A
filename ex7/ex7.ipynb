{
 "cells": [
  {
   "cell_type": "markdown",
   "metadata": {},
   "source": [
    "# 課題7 主成分分析\n",
    "\n",
    "配点\n",
    "- Q1 2P\n",
    "- Q2 8P"
   ]
  },
  {
   "cell_type": "code",
   "execution_count": 4,
   "metadata": {},
   "outputs": [],
   "source": [
    "import csv\n",
    "import pandas as pd\n",
    "import numpy as np\n",
    "import matplotlib.pyplot as plt\n",
    "%matplotlib inline"
   ]
  },
  {
   "cell_type": "markdown",
   "metadata": {},
   "source": [
    "## Q1 共分散行列\n",
    "2つの変数$x$,$y$が取る対応する$n$個の値を\n",
    "\n",
    "$x=(x_1,x_2,...,x_n)$, \n",
    "\n",
    "$y=(y_1,y_2,...,y_n)$\n",
    "\n",
    "とすると、これらの変数間の共分散は以下のように計算できる。共分散は変数間の関係性を表すのに用いられ、共分散を正規化したものは相関係数となる。\n",
    "\n",
    "$ \\Sigma_{i=1}^{n} (x_i- \\overline{x}) (y_i- \\overline{y})/n$\n",
    "\n",
    "$\\overline{x}, \\overline{y}$はそれぞれ$x$と$y$の平均。\n",
    "\n",
    "不偏分散とする場合は$n-1$で割るが、本課題では標準分散を考え$n$で割ることを考える。\n",
    "\n",
    "複数の変数について、変数間の分散（同一変数について）と共分散（異なる変数について）の一覧を行列の形でまとめたものを分散共分散行列と呼び（以下では単に共分散行列と呼ぶことにする）、2変数の場合は、共分散行列は以下のように表される。\n",
    "\n",
    "\n",
    "$\n",
    "   \\left(\n",
    "    \\begin{array}{cc}\n",
    "        \\Sigma_{i=1}^{n}(x_i- \\overline{x})^2/n  &  \\Sigma_{i=1}^{n} (x_i- \\overline{x}) (y_i- \\overline{y})/n  \\\\\n",
    "      \\Sigma_{i=1}^{n} (x_i- \\overline{x}) (y_i- \\overline{y})/n　 &  \\Sigma_{i=1}^{n}(y_i- \\overline{y})^2/n \n",
    "    \\end{array}\n",
    "  \\right)\n",
    "$\n",
    "\n",
    "行列（2次元配列）を引数として受け取り、***各列を変数として列間の***共分散行列を返す関数`cov_matrix`を完成させてください。"
   ]
  },
  {
   "cell_type": "code",
   "execution_count": null,
   "metadata": {},
   "outputs": [],
   "source": [
    "def cov_matrix(X)\n",
    "    ### 引数：\n",
    "    # X: 行列（2次元配列）\n",
    "    \n",
    "    ### 入力の行列の列間の共分散行列を計算するコード\n",
    "\n",
    "    ### return 共分散行列（(Xの列数)x(Xの列数))"
   ]
  },
  {
   "cell_type": "markdown",
   "metadata": {},
   "source": [
    "`cov_matrix`関数が完成したら、以下のセルを実行して動作を確認してください。課題6で用いたirisデータセットの4つの特徴量間の共分散行列を求めています。その共分散行列は以下のようになります。\n",
    "```Python\n",
    "[[ 0.68112222 -0.03900667  1.26519111  0.51345778]\n",
    " [-0.03900667  0.18675067 -0.319568   -0.11719467]\n",
    " [ 1.26519111 -0.319568    3.09242489  1.28774489]\n",
    " [ 0.51345778 -0.11719467  1.28774489  0.57853156]]\n",
    "```"
   ]
  },
  {
   "cell_type": "code",
   "execution_count": null,
   "metadata": {},
   "outputs": [],
   "source": [
    "from sklearn.datasets import load_iris\n",
    "iris = load_iris() \n",
    "X_iris=iris['data']\n",
    "print(cov_matrix(X_iris))"
   ]
  },
  {
   "cell_type": "markdown",
   "metadata": {},
   "source": [
    "## Q2 主成分分析\n",
    "以下では、主成分分析により特徴量の次元縮約を行う`pca`関数を実装します。`pca`関数では第1引数に入力のデータ行列（データ数($m$)$\\times$次元数($n$))、第2引数に次元数$k$を受け取り、入力データを第2引数で指定された次元数に縮約した行列（データ数($m$)$\\times$次元数($k$))とその時の累積寄与率を返します。\n",
    "\n",
    "具体的に、`pca`関数では以下の手順により入力データの次元縮約を行います。\n",
    "\n",
    "- 各次元（特徴量）の標準化\n",
    "\n",
    "    - 入力データの各次元（特徴量）をそれぞれ平均0, 分散1に標準化する\n",
    "\n",
    "- 特徴量間の共分散行列の作成\n",
    "\n",
    "    - 標準化した特徴量間の共分散行列（$n \\times n$)を作成する\n",
    "\n",
    "- 共分散行列の固有値・固有ベクトルの計算\n",
    "\n",
    "    - 固有値・固有ベクトルの計算には`NumPy`の`np.linalg.eig`関数を用いる。`np.linalg.eig`関数の引数に以下のように行列を与えると、その行列の固有値を要素とする配列`w`とそれらの固有値に対応する固有ベクトルを列に持つ行列`v`を返します。\n",
    "```Python\n",
    "w, v = np.linalg.eig(行列)\n",
    "```\n",
    "- 元のデータを$k$個の固有ベクトル（主成分）を基底とする座標で表す\n",
    "\n",
    "    - 上記で計算した固有値・固有ベクトルについて、固有ベクトルをそれが対応する固有値の大きい順に$k$個選び、それらをデータの新たな基底とします。\n",
    "\n",
    "        - 例えば、$n=4, k=2$ とし、4次元のデータを2次元に縮約するときは、固有値の大きい順に固有ベクトル$v_1, v_2$（それぞれ$1\\times n$のベクトル）を２つ選び、元のデータ$x^{(i)}$（$n\\times 1$のベクトル）との内積を計算することで、元のデータに対して$v_1, v_2$を新たな基底とする縮約された次元の座標$x^{(i)}_{new}$を計算できる。\n",
    "\n",
    "        - $x^{(i)}_{new}=(x^{(i)}v_1, x^{(i)}v_2)$（$v_1, v_2$を基底とする座標）\n",
    "\n",
    "    - 上記で標準化した元の入力データ行列を$X$（$x^{(1)},x^{(2)},...,x^{(m)}$を行ベクトルとする行列）とし、$k$個の固有ベクトル$v_1,v_2,...,v_k$を列ベクトルとする行列$(v_1 v_2 ... v_k)$を考えると、`pca`関数が返す$k$次元に縮約されたデータは$v_1,v_2,...,v_k$を基底した座標点として以下のように表せる。\n",
    "\n",
    "    - $\n",
    "    \\left(\n",
    "    \\begin{array}{c}\n",
    "      x^{(1)}_{new}  \\\\\n",
    "       x^{(2)}_{new}  \\\\\n",
    "        ...  \\\\\n",
    "         x^{(m)}_{new}  \\\\\n",
    "    \\end{array}\n",
    "  \\right)\n",
    "  =\n",
    "  \\left(\n",
    "    \\begin{array}{c}\n",
    "      x^{(1)}  \\\\\n",
    "       x^{(2)}  \\\\\n",
    "        ...  \\\\\n",
    "         x^{(m)}  \\\\\n",
    "    \\end{array}\n",
    "  \\right)\n",
    "    \\left(\n",
    "    \\begin{array}{cccc}\n",
    "      v_1 & v_2 & ... & v_k \n",
    "    \\end{array}\n",
    "  \\right)\n",
    "  =\n",
    "  \\left(\n",
    "    \\begin{array}{c}\n",
    "      x^{(1)} v_1,  x^{(1)} v_2, ..., x^{(1)} v_k \\\\\n",
    "       x^{(2)} v_1,  x^{(2)} v_2, ..., x^{(2)} v_k \\\\\n",
    "    ...  \\\\\n",
    "     x^{(m)} v_1,  x^{(m)} v_2, ..., x^{(m)} v_k \\\\ \n",
    "    \\end{array}\n",
    "  \\right)\n",
    "$\n",
    "\n",
    "- 累積寄与率の計算\n",
    "    - $k$個の固有ベクトル（主成分）までの固有値$\\lambda_i(i=1,..,k)$（分散）の和が全部の固有値（分散）$\\lambda_i(i=1,..,n)$の総和に占める以下の割合を累積寄与率と呼ぶ。`pca`関数は$k$次元に縮約されたデータとともにこの累積寄与率を返す\n",
    "\n",
    "    - $\\Sigma_{i=1}^k\\lambda_i/\\Sigma_{i=1}^n\\lambda_i$\n",
    "\n",
    "上記に従って、`pca`関数を完成させてください。"
   ]
  },
  {
   "cell_type": "code",
   "execution_count": null,
   "metadata": {},
   "outputs": [],
   "source": [
    "def pca(X, k):\n",
    "    ### 引数：\n",
    "    # mat: 入力のデータ行列(データ数m*次元数n)\n",
    "    # k: 次元数\n",
    "    \n",
    "    ### 1. 入力データの各列を標準化するコード\n",
    "        # 分散は標準分散としてよい\n",
    "    \n",
    "    ### 2. 1.で標準化した入力データの列間の共分散行列を作成するコード\n",
    "        # 分散、共分散は標準分散としてよい\n",
    "    \n",
    "    ### 3. 共分散行列の固有値・固有ベクトルを計算するコード\n",
    "        # w, v = np.linalg.eig(共分散行列)\n",
    "            # 固有値の大きい順にk個の固有ベクトル（vの列ベクトル）は以下のように指定できる\n",
    "                # ind = np.argsort(w)[::-1] # 固有値の大きい順に並び替えた時のwのインデックス\n",
    "                # w[ind[:k]] # k個の固有値\n",
    "                 # v[:, ind[:k]] # k個の固有ベクトル\n",
    "    \n",
    "    ### 4. 標準化した入力データをk個の固有ベクトルを基底とした座標で表した行列を求めるコード\n",
    "        # 1.で標準化した入力データとv[:, ind[:k]]の積を考えるとよい\n",
    "\n",
    "    ### 5. 累積寄与率を計算するコード\n",
    "        # 固有値を要素とする配列wを使う\n",
    "    \n",
    "    ### return 4.の行列, 5.累積寄与率"
   ]
  },
  {
   "cell_type": "markdown",
   "metadata": {},
   "source": [
    "`pca`関数が完成したら、以下のセルをそれぞれ実行して動作を確認してください。それぞれ、irisデータセットの4つの特徴量からなる特徴空間を1次元、2次元、3次元に次元縮約した結果を可視化しています。データは花の種類ごとに色分けしており、縮約された特徴空間において花の種類ごとにデータが近接していることがわかります。\n",
    "\n",
    "1次元に縮約した時の累積寄与率は約0.72ですが、2次元に縮約した時の累積寄与率は約0.95となり、データ全体の分散に対して第1と第2の主成分（固有ベクトル）の分散（固有値）が多く占めていることがわかります。"
   ]
  },
  {
   "cell_type": "code",
   "execution_count": null,
   "metadata": {},
   "outputs": [],
   "source": [
    "from sklearn.datasets import load_iris\n",
    "\n",
    "iris = load_iris() \n",
    "X_iris=iris['data']\n",
    "D, P=pca(X_iris, 1) # 1次元に縮約\n",
    "print(P) # 累積寄与率\n",
    "\n",
    "plt.figure(figsize=(7,5))\n",
    "plt.xlabel(\"1st Principal Component\")\n",
    "plt.scatter(D[:,0], np.zeros(D.shape[0]),c=iris.target);"
   ]
  },
  {
   "cell_type": "code",
   "execution_count": null,
   "metadata": {},
   "outputs": [],
   "source": [
    "from sklearn.datasets import load_iris\n",
    "\n",
    "iris = load_iris() \n",
    "X_iris=iris['data']\n",
    "D, P=pca(X_iris, 2) # 2次元に縮約\n",
    "print(P) # 累積寄与率\n",
    "\n",
    "plt.figure(figsize=(7,5))\n",
    "plt.xlabel(\"1st Principal Component\")\n",
    "plt.ylabel(\"2nd Principal Component\")\n",
    "plt.scatter(D[:,0], D[:,1],c=iris.target);"
   ]
  },
  {
   "cell_type": "code",
   "execution_count": null,
   "metadata": {},
   "outputs": [],
   "source": [
    "from mpl_toolkits.mplot3d import Axes3D\n",
    "from sklearn.datasets import load_iris\n",
    "\n",
    "iris = load_iris() \n",
    "X_iris=iris['data']\n",
    "D, P=pca(X_iris, 3) # 3次元に縮約\n",
    "print(P) # 累積寄与率\n",
    "\n",
    "ax = Axes3D(plt.figure())\n",
    "ax.scatter(D[:,0], D[:,1], D[:,2],c=iris.target);"
   ]
  },
  {
   "cell_type": "markdown",
   "metadata": {},
   "source": [
    "## 参考：scikit-learnでの主成分分析"
   ]
  },
  {
   "cell_type": "code",
   "execution_count": 5,
   "metadata": {},
   "outputs": [
    {
     "data": {
      "image/png": "[encoded data removed]",
      "text/plain": [
       "<Figure size 504x360 with 1 Axes>"
      ]
     },
     "metadata": {},
     "output_type": "display_data"
    }
   ],
   "source": [
    "from sklearn.decomposition import PCA\n",
    "from sklearn.datasets import load_iris\n",
    "\n",
    "iris = load_iris() \n",
    "X_iris=iris['data']\n",
    "\n",
    "# 以下では入力の標準化はしていない\n",
    "model = PCA(n_components=2) \n",
    "model.fit(X_iris) \n",
    "D=model.transform(X_iris) \n",
    "\n",
    "plt.figure(figsize=(7,5))\n",
    "plt.xlabel(\"1st Principal Component\")\n",
    "plt.ylabel(\"2nd Principal Component\")\n",
    "plt.scatter(D[:,0], D[:,1],c=iris.target);"
   ]
  }
 ],
 "metadata": {
  "kernelspec": {
   "display_name": "Python 3",
   "language": "python",
   "name": "python3"
  },
  "language_info": {
   "codemirror_mode": {
    "name": "ipython",
    "version": 3
   },
   "file_extension": ".py",
   "mimetype": "text/x-python",
   "name": "python",
   "nbconvert_exporter": "python",
   "pygments_lexer": "ipython3",
   "version": "3.7.3"
  }
 },
 "nbformat": 4,
 "nbformat_minor": 2
}
